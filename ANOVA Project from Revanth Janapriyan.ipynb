{
 "cells": [
  {
   "cell_type": "code",
   "execution_count": 2,
   "id": "4b7dbede",
   "metadata": {},
   "outputs": [
    {
     "name": "stdout",
     "output_type": "stream",
     "text": [
      "Collecting statsmodels\n",
      "  Downloading statsmodels-0.14.4-cp310-cp310-macosx_11_0_arm64.whl.metadata (9.2 kB)\n",
      "Requirement already satisfied: numpy<3,>=1.22.3 in /opt/anaconda3/envs/nlp/lib/python3.10/site-packages (from statsmodels) (1.26.4)\n",
      "Requirement already satisfied: scipy!=1.9.2,>=1.8 in /opt/anaconda3/envs/nlp/lib/python3.10/site-packages (from statsmodels) (1.13.1)\n",
      "Requirement already satisfied: pandas!=2.1.0,>=1.4 in /opt/anaconda3/envs/nlp/lib/python3.10/site-packages (from statsmodels) (2.2.2)\n",
      "Collecting patsy>=0.5.6 (from statsmodels)\n",
      "  Downloading patsy-1.0.1-py2.py3-none-any.whl.metadata (3.3 kB)\n",
      "Requirement already satisfied: packaging>=21.3 in /opt/anaconda3/envs/nlp/lib/python3.10/site-packages (from statsmodels) (24.1)\n",
      "Requirement already satisfied: python-dateutil>=2.8.2 in /opt/anaconda3/envs/nlp/lib/python3.10/site-packages (from pandas!=2.1.0,>=1.4->statsmodels) (2.9.0)\n",
      "Requirement already satisfied: pytz>=2020.1 in /opt/anaconda3/envs/nlp/lib/python3.10/site-packages (from pandas!=2.1.0,>=1.4->statsmodels) (2024.1)\n",
      "Requirement already satisfied: tzdata>=2022.7 in /opt/anaconda3/envs/nlp/lib/python3.10/site-packages (from pandas!=2.1.0,>=1.4->statsmodels) (2023.3)\n",
      "Requirement already satisfied: six>=1.5 in /opt/anaconda3/envs/nlp/lib/python3.10/site-packages (from python-dateutil>=2.8.2->pandas!=2.1.0,>=1.4->statsmodels) (1.16.0)\n",
      "Downloading statsmodels-0.14.4-cp310-cp310-macosx_11_0_arm64.whl (9.9 MB)\n",
      "\u001b[2K   \u001b[90m━━━━━━━━━━━━━━━━━━━━━━━━━━━━━━━━━━━━━━━━\u001b[0m \u001b[32m9.9/9.9 MB\u001b[0m \u001b[31m224.0 kB/s\u001b[0m eta \u001b[36m0:00:00\u001b[0m00:01\u001b[0m00:03\u001b[0m\n",
      "\u001b[?25hDownloading patsy-1.0.1-py2.py3-none-any.whl (232 kB)\n",
      "Installing collected packages: patsy, statsmodels\n",
      "Successfully installed patsy-1.0.1 statsmodels-0.14.4\n"
     ]
    }
   ],
   "source": [
    "!pip install statsmodels"
   ]
  },
  {
   "cell_type": "code",
   "execution_count": 3,
   "id": "9186e047",
   "metadata": {},
   "outputs": [],
   "source": [
    "# Import Necessary packages\n",
    "\n",
    "import warnings\n",
    "warnings.filterwarnings('ignore')\n",
    "\n",
    "import numpy as np\n",
    "import pandas as pd\n",
    "import matplotlib.pyplot as plt\n",
    "import seaborn as sns\n",
    "from statsmodels.formula.api import ols \n",
    "from statsmodels.stats.anova import anova_lm, _get_covariance"
   ]
  },
  {
   "cell_type": "code",
   "execution_count": 4,
   "id": "3b7f78c2",
   "metadata": {},
   "outputs": [],
   "source": [
    "#importing data\n",
    "\n",
    "service = pd.read_csv('Services.csv')"
   ]
  },
  {
   "cell_type": "code",
   "execution_count": 5,
   "id": "572dc080",
   "metadata": {},
   "outputs": [
    {
     "data": {
      "text/html": [
       "<div>\n",
       "<style scoped>\n",
       "    .dataframe tbody tr th:only-of-type {\n",
       "        vertical-align: middle;\n",
       "    }\n",
       "\n",
       "    .dataframe tbody tr th {\n",
       "        vertical-align: top;\n",
       "    }\n",
       "\n",
       "    .dataframe thead th {\n",
       "        text-align: right;\n",
       "    }\n",
       "</style>\n",
       "<table border=\"1\" class=\"dataframe\">\n",
       "  <thead>\n",
       "    <tr style=\"text-align: right;\">\n",
       "      <th></th>\n",
       "      <th>Technician</th>\n",
       "      <th>Manufacturer</th>\n",
       "      <th>Job</th>\n",
       "      <th>Service_Time</th>\n",
       "    </tr>\n",
       "  </thead>\n",
       "  <tbody>\n",
       "    <tr>\n",
       "      <th>0</th>\n",
       "      <td>1</td>\n",
       "      <td>1</td>\n",
       "      <td>1</td>\n",
       "      <td>62</td>\n",
       "    </tr>\n",
       "    <tr>\n",
       "      <th>1</th>\n",
       "      <td>1</td>\n",
       "      <td>1</td>\n",
       "      <td>2</td>\n",
       "      <td>48</td>\n",
       "    </tr>\n",
       "    <tr>\n",
       "      <th>2</th>\n",
       "      <td>1</td>\n",
       "      <td>1</td>\n",
       "      <td>3</td>\n",
       "      <td>63</td>\n",
       "    </tr>\n",
       "    <tr>\n",
       "      <th>3</th>\n",
       "      <td>1</td>\n",
       "      <td>1</td>\n",
       "      <td>4</td>\n",
       "      <td>57</td>\n",
       "    </tr>\n",
       "    <tr>\n",
       "      <th>4</th>\n",
       "      <td>1</td>\n",
       "      <td>1</td>\n",
       "      <td>5</td>\n",
       "      <td>69</td>\n",
       "    </tr>\n",
       "  </tbody>\n",
       "</table>\n",
       "</div>"
      ],
      "text/plain": [
       "   Technician  Manufacturer  Job  Service_Time\n",
       "0           1             1    1            62\n",
       "1           1             1    2            48\n",
       "2           1             1    3            63\n",
       "3           1             1    4            57\n",
       "4           1             1    5            69"
      ]
     },
     "execution_count": 5,
     "metadata": {},
     "output_type": "execute_result"
    }
   ],
   "source": [
    "service.head()"
   ]
  },
  {
   "cell_type": "code",
   "execution_count": 6,
   "id": "2fcfc1e0",
   "metadata": {},
   "outputs": [
    {
     "data": {
      "text/plain": [
       "(45, 4)"
      ]
     },
     "execution_count": 6,
     "metadata": {},
     "output_type": "execute_result"
    }
   ],
   "source": [
    "service.shape"
   ]
  },
  {
   "cell_type": "code",
   "execution_count": 7,
   "id": "af841c9c",
   "metadata": {},
   "outputs": [
    {
     "name": "stdout",
     "output_type": "stream",
     "text": [
      "<class 'pandas.core.frame.DataFrame'>\n",
      "RangeIndex: 45 entries, 0 to 44\n",
      "Data columns (total 4 columns):\n",
      " #   Column        Non-Null Count  Dtype\n",
      "---  ------        --------------  -----\n",
      " 0   Technician    45 non-null     int64\n",
      " 1   Manufacturer  45 non-null     int64\n",
      " 2   Job           45 non-null     int64\n",
      " 3   Service_Time  45 non-null     int64\n",
      "dtypes: int64(4)\n",
      "memory usage: 1.5 KB\n"
     ]
    }
   ],
   "source": [
    "service.info()"
   ]
  },
  {
   "cell_type": "code",
   "execution_count": 8,
   "id": "7d4c7dce",
   "metadata": {},
   "outputs": [
    {
     "data": {
      "text/plain": [
       "Technician      0\n",
       "Manufacturer    0\n",
       "Job             0\n",
       "Service_Time    0\n",
       "dtype: int64"
      ]
     },
     "execution_count": 8,
     "metadata": {},
     "output_type": "execute_result"
    }
   ],
   "source": [
    "service.isnull().sum()"
   ]
  },
  {
   "cell_type": "code",
   "execution_count": 9,
   "id": "0b32e7f7",
   "metadata": {},
   "outputs": [
    {
     "data": {
      "text/html": [
       "<div>\n",
       "<style scoped>\n",
       "    .dataframe tbody tr th:only-of-type {\n",
       "        vertical-align: middle;\n",
       "    }\n",
       "\n",
       "    .dataframe tbody tr th {\n",
       "        vertical-align: top;\n",
       "    }\n",
       "\n",
       "    .dataframe thead th {\n",
       "        text-align: right;\n",
       "    }\n",
       "</style>\n",
       "<table border=\"1\" class=\"dataframe\">\n",
       "  <thead>\n",
       "    <tr style=\"text-align: right;\">\n",
       "      <th></th>\n",
       "      <th>count</th>\n",
       "      <th>mean</th>\n",
       "      <th>std</th>\n",
       "      <th>min</th>\n",
       "      <th>25%</th>\n",
       "      <th>50%</th>\n",
       "      <th>75%</th>\n",
       "      <th>max</th>\n",
       "    </tr>\n",
       "  </thead>\n",
       "  <tbody>\n",
       "    <tr>\n",
       "      <th>Technician</th>\n",
       "      <td>45.0</td>\n",
       "      <td>2.000000</td>\n",
       "      <td>0.825723</td>\n",
       "      <td>1.0</td>\n",
       "      <td>1.0</td>\n",
       "      <td>2.0</td>\n",
       "      <td>3.0</td>\n",
       "      <td>3.0</td>\n",
       "    </tr>\n",
       "    <tr>\n",
       "      <th>Manufacturer</th>\n",
       "      <td>45.0</td>\n",
       "      <td>2.000000</td>\n",
       "      <td>0.825723</td>\n",
       "      <td>1.0</td>\n",
       "      <td>1.0</td>\n",
       "      <td>2.0</td>\n",
       "      <td>3.0</td>\n",
       "      <td>3.0</td>\n",
       "    </tr>\n",
       "    <tr>\n",
       "      <th>Job</th>\n",
       "      <td>45.0</td>\n",
       "      <td>3.000000</td>\n",
       "      <td>1.430194</td>\n",
       "      <td>1.0</td>\n",
       "      <td>2.0</td>\n",
       "      <td>3.0</td>\n",
       "      <td>4.0</td>\n",
       "      <td>5.0</td>\n",
       "    </tr>\n",
       "    <tr>\n",
       "      <th>Service_Time</th>\n",
       "      <td>45.0</td>\n",
       "      <td>55.822222</td>\n",
       "      <td>8.448477</td>\n",
       "      <td>39.0</td>\n",
       "      <td>50.0</td>\n",
       "      <td>56.0</td>\n",
       "      <td>62.0</td>\n",
       "      <td>70.0</td>\n",
       "    </tr>\n",
       "  </tbody>\n",
       "</table>\n",
       "</div>"
      ],
      "text/plain": [
       "              count       mean       std   min   25%   50%   75%   max\n",
       "Technician     45.0   2.000000  0.825723   1.0   1.0   2.0   3.0   3.0\n",
       "Manufacturer   45.0   2.000000  0.825723   1.0   1.0   2.0   3.0   3.0\n",
       "Job            45.0   3.000000  1.430194   1.0   2.0   3.0   4.0   5.0\n",
       "Service_Time   45.0  55.822222  8.448477  39.0  50.0  56.0  62.0  70.0"
      ]
     },
     "execution_count": 9,
     "metadata": {},
     "output_type": "execute_result"
    }
   ],
   "source": [
    "service.describe(include ='all').T"
   ]
  },
  {
   "cell_type": "code",
   "execution_count": 10,
   "id": "cddbd271",
   "metadata": {},
   "outputs": [
    {
     "data": {
      "text/plain": [
       "Technician\n",
       "1    15\n",
       "2    15\n",
       "3    15\n",
       "Name: count, dtype: int64"
      ]
     },
     "execution_count": 10,
     "metadata": {},
     "output_type": "execute_result"
    }
   ],
   "source": [
    "service['Technician'].value_counts()"
   ]
  },
  {
   "cell_type": "code",
   "execution_count": 11,
   "id": "af4f9001",
   "metadata": {},
   "outputs": [
    {
     "data": {
      "text/plain": [
       "Manufacturer\n",
       "1    15\n",
       "2    15\n",
       "3    15\n",
       "Name: count, dtype: int64"
      ]
     },
     "execution_count": 11,
     "metadata": {},
     "output_type": "execute_result"
    }
   ],
   "source": [
    "service['Manufacturer'].value_counts()"
   ]
  },
  {
   "cell_type": "code",
   "execution_count": 12,
   "id": "b0db88c1",
   "metadata": {},
   "outputs": [
    {
     "data": {
      "text/plain": [
       "Job\n",
       "1    9\n",
       "2    9\n",
       "3    9\n",
       "4    9\n",
       "5    9\n",
       "Name: count, dtype: int64"
      ]
     },
     "execution_count": 12,
     "metadata": {},
     "output_type": "execute_result"
    }
   ],
   "source": [
    "service['Job'].value_counts()"
   ]
  },
  {
   "cell_type": "markdown",
   "id": "376b834d",
   "metadata": {},
   "source": [
    "# 1. State the Null and Alternate Hypothesis for conducting one-way ANOVA for both the variables ‘Manufacturer’ and ‘Technician' individually."
   ]
  },
  {
   "cell_type": "markdown",
   "id": "3b374160",
   "metadata": {},
   "source": [
    "### The null and alternative hypothesis for Manufacturer.\n",
    "\n",
    "H0 : The mean service time taken for each manufacturer is same.\n",
    "\n",
    "H1 : The mean service time taken for each manufacturer is different.\n",
    "\n",
    "### The null and alternative hypothesis for Technician.\n",
    "\n",
    "H0 : The mean service time taken for all three technician group is same.\n",
    "\n",
    "H1 : The mean service time taken for all three technician group is different.\n"
   ]
  },
  {
   "cell_type": "code",
   "execution_count": 13,
   "id": "9618cc8a",
   "metadata": {},
   "outputs": [],
   "source": [
    "n=service.shape[0]*service.shape[1] #total no of observations\n",
    "k=service.shape[1] #no of groups"
   ]
  },
  {
   "cell_type": "code",
   "execution_count": 14,
   "id": "0227ceef",
   "metadata": {},
   "outputs": [
    {
     "name": "stdout",
     "output_type": "stream",
     "text": [
      "Degree of Freedom between groups: 3\n",
      "Degree of Freedom within groups: 176\n"
     ]
    }
   ],
   "source": [
    "#Degree of freedom between groups\n",
    "service_bg=k-1\n",
    "print('Degree of Freedom between groups:',service_bg)\n",
    "#Degree of freedom within groups\n",
    "service_wg=n-k\n",
    "print('Degree of Freedom within groups:',service_wg)"
   ]
  },
  {
   "cell_type": "markdown",
   "id": "e8f2a352",
   "metadata": {},
   "source": [
    "# 2. Perform one-way ANOVA for variable ‘Manufacturer’ with respect to the variable ‘Service Time’. State whether the Null Hypothesis is accepted or rejected based on the ANOVA results."
   ]
  },
  {
   "cell_type": "code",
   "execution_count": 15,
   "id": "910ee074",
   "metadata": {},
   "outputs": [
    {
     "data": {
      "text/html": [
       "<div>\n",
       "<style scoped>\n",
       "    .dataframe tbody tr th:only-of-type {\n",
       "        vertical-align: middle;\n",
       "    }\n",
       "\n",
       "    .dataframe tbody tr th {\n",
       "        vertical-align: top;\n",
       "    }\n",
       "\n",
       "    .dataframe thead th {\n",
       "        text-align: right;\n",
       "    }\n",
       "</style>\n",
       "<table border=\"1\" class=\"dataframe\">\n",
       "  <thead>\n",
       "    <tr style=\"text-align: right;\">\n",
       "      <th></th>\n",
       "      <th>Manufacturer</th>\n",
       "      <th>Service_Time</th>\n",
       "    </tr>\n",
       "  </thead>\n",
       "  <tbody>\n",
       "    <tr>\n",
       "      <th>0</th>\n",
       "      <td>1</td>\n",
       "      <td>62</td>\n",
       "    </tr>\n",
       "    <tr>\n",
       "      <th>1</th>\n",
       "      <td>1</td>\n",
       "      <td>48</td>\n",
       "    </tr>\n",
       "    <tr>\n",
       "      <th>2</th>\n",
       "      <td>1</td>\n",
       "      <td>63</td>\n",
       "    </tr>\n",
       "    <tr>\n",
       "      <th>3</th>\n",
       "      <td>1</td>\n",
       "      <td>57</td>\n",
       "    </tr>\n",
       "    <tr>\n",
       "      <th>4</th>\n",
       "      <td>1</td>\n",
       "      <td>69</td>\n",
       "    </tr>\n",
       "  </tbody>\n",
       "</table>\n",
       "</div>"
      ],
      "text/plain": [
       "   Manufacturer  Service_Time\n",
       "0             1            62\n",
       "1             1            48\n",
       "2             1            63\n",
       "3             1            57\n",
       "4             1            69"
      ]
     },
     "execution_count": 15,
     "metadata": {},
     "output_type": "execute_result"
    }
   ],
   "source": [
    "man = service.drop(['Technician', 'Job'], axis = 1)\n",
    "man.head()"
   ]
  },
  {
   "cell_type": "code",
   "execution_count": 16,
   "id": "b0834e51",
   "metadata": {},
   "outputs": [
    {
     "name": "stdout",
     "output_type": "stream",
     "text": [
      "<class 'pandas.core.frame.DataFrame'>\n",
      "RangeIndex: 45 entries, 0 to 44\n",
      "Data columns (total 2 columns):\n",
      " #   Column        Non-Null Count  Dtype\n",
      "---  ------        --------------  -----\n",
      " 0   Manufacturer  45 non-null     int64\n",
      " 1   Service_Time  45 non-null     int64\n",
      "dtypes: int64(2)\n",
      "memory usage: 848.0 bytes\n"
     ]
    }
   ],
   "source": [
    "man.info()"
   ]
  },
  {
   "cell_type": "code",
   "execution_count": 17,
   "id": "34673ebd",
   "metadata": {},
   "outputs": [],
   "source": [
    "man['Manufacturer'] = pd.Categorical(man['Manufacturer'])"
   ]
  },
  {
   "cell_type": "code",
   "execution_count": 18,
   "id": "d0752cf1",
   "metadata": {},
   "outputs": [
    {
     "name": "stdout",
     "output_type": "stream",
     "text": [
      "                   df       sum_sq    mean_sq         F    PR(>F)\n",
      "C(Manufacturer)   2.0    28.311111  14.155556  0.191029  0.826822\n",
      "Residual         42.0  3112.266667  74.101587       NaN       NaN\n"
     ]
    }
   ],
   "source": [
    "f_man = 'Service_Time ~ C(Manufacturer)'\n",
    "model = ols(f_man, man).fit()\n",
    "aov_table_man = anova_lm(model)\n",
    "print(aov_table_man)"
   ]
  },
  {
   "cell_type": "markdown",
   "id": "932147bd",
   "metadata": {},
   "source": [
    "Since the p-value is greater than the significance level, we cannot reject the null hypothesis."
   ]
  },
  {
   "cell_type": "code",
   "execution_count": 19,
   "id": "f0b54b49",
   "metadata": {},
   "outputs": [
    {
     "data": {
      "image/png": "[encoded data removed]",
      "text/plain": [
       "<Figure size 1000x700 with 1 Axes>"
      ]
     },
     "metadata": {},
     "output_type": "display_data"
    }
   ],
   "source": [
    "plt.figure(figsize=(10,7))\n",
    "sns.pointplot(x = 'Manufacturer', y = 'Service_Time', data=man);"
   ]
  },
  {
   "cell_type": "code",
   "execution_count": 20,
   "id": "2f781e88",
   "metadata": {},
   "outputs": [
    {
     "data": {
      "text/html": [
       "<div>\n",
       "<style scoped>\n",
       "    .dataframe tbody tr th:only-of-type {\n",
       "        vertical-align: middle;\n",
       "    }\n",
       "\n",
       "    .dataframe tbody tr th {\n",
       "        vertical-align: top;\n",
       "    }\n",
       "\n",
       "    .dataframe thead th {\n",
       "        text-align: right;\n",
       "    }\n",
       "</style>\n",
       "<table border=\"1\" class=\"dataframe\">\n",
       "  <thead>\n",
       "    <tr style=\"text-align: right;\">\n",
       "      <th></th>\n",
       "      <th>Service_Time</th>\n",
       "    </tr>\n",
       "    <tr>\n",
       "      <th>Manufacturer</th>\n",
       "      <th></th>\n",
       "    </tr>\n",
       "  </thead>\n",
       "  <tbody>\n",
       "    <tr>\n",
       "      <th>1</th>\n",
       "      <td>56.133333</td>\n",
       "    </tr>\n",
       "    <tr>\n",
       "      <th>2</th>\n",
       "      <td>56.600000</td>\n",
       "    </tr>\n",
       "    <tr>\n",
       "      <th>3</th>\n",
       "      <td>54.733333</td>\n",
       "    </tr>\n",
       "  </tbody>\n",
       "</table>\n",
       "</div>"
      ],
      "text/plain": [
       "              Service_Time\n",
       "Manufacturer              \n",
       "1                56.133333\n",
       "2                56.600000\n",
       "3                54.733333"
      ]
     },
     "execution_count": 20,
     "metadata": {},
     "output_type": "execute_result"
    }
   ],
   "source": [
    "man.groupby(man['Manufacturer']).mean()"
   ]
  },
  {
   "cell_type": "markdown",
   "id": "7cee28fe",
   "metadata": {},
   "source": [
    "The pairplot also shows that the service time for each manufacturer is almost same, so the null hypothesis is accepted here."
   ]
  },
  {
   "cell_type": "markdown",
   "id": "8df1bb6c",
   "metadata": {},
   "source": [
    "# 3. Perform one-way ANOVA for variable ‘Technician’ with respect to the variable ‘Service Time’. State whether the Null Hypothesis is accepted or rejected based on the ANOVA results."
   ]
  },
  {
   "cell_type": "code",
   "execution_count": 21,
   "id": "50a1fca2",
   "metadata": {},
   "outputs": [
    {
     "data": {
      "text/html": [
       "<div>\n",
       "<style scoped>\n",
       "    .dataframe tbody tr th:only-of-type {\n",
       "        vertical-align: middle;\n",
       "    }\n",
       "\n",
       "    .dataframe tbody tr th {\n",
       "        vertical-align: top;\n",
       "    }\n",
       "\n",
       "    .dataframe thead th {\n",
       "        text-align: right;\n",
       "    }\n",
       "</style>\n",
       "<table border=\"1\" class=\"dataframe\">\n",
       "  <thead>\n",
       "    <tr style=\"text-align: right;\">\n",
       "      <th></th>\n",
       "      <th>Technician</th>\n",
       "      <th>Service_Time</th>\n",
       "    </tr>\n",
       "  </thead>\n",
       "  <tbody>\n",
       "    <tr>\n",
       "      <th>0</th>\n",
       "      <td>1</td>\n",
       "      <td>62</td>\n",
       "    </tr>\n",
       "    <tr>\n",
       "      <th>1</th>\n",
       "      <td>1</td>\n",
       "      <td>48</td>\n",
       "    </tr>\n",
       "    <tr>\n",
       "      <th>2</th>\n",
       "      <td>1</td>\n",
       "      <td>63</td>\n",
       "    </tr>\n",
       "    <tr>\n",
       "      <th>3</th>\n",
       "      <td>1</td>\n",
       "      <td>57</td>\n",
       "    </tr>\n",
       "    <tr>\n",
       "      <th>4</th>\n",
       "      <td>1</td>\n",
       "      <td>69</td>\n",
       "    </tr>\n",
       "  </tbody>\n",
       "</table>\n",
       "</div>"
      ],
      "text/plain": [
       "   Technician  Service_Time\n",
       "0           1            62\n",
       "1           1            48\n",
       "2           1            63\n",
       "3           1            57\n",
       "4           1            69"
      ]
     },
     "execution_count": 21,
     "metadata": {},
     "output_type": "execute_result"
    }
   ],
   "source": [
    "tech = service.drop(['Manufacturer', 'Job'], axis=1)\n",
    "tech.head()"
   ]
  },
  {
   "cell_type": "code",
   "execution_count": 22,
   "id": "bce3b13d",
   "metadata": {},
   "outputs": [
    {
     "name": "stdout",
     "output_type": "stream",
     "text": [
      "<class 'pandas.core.frame.DataFrame'>\n",
      "RangeIndex: 45 entries, 0 to 44\n",
      "Data columns (total 2 columns):\n",
      " #   Column        Non-Null Count  Dtype\n",
      "---  ------        --------------  -----\n",
      " 0   Technician    45 non-null     int64\n",
      " 1   Service_Time  45 non-null     int64\n",
      "dtypes: int64(2)\n",
      "memory usage: 848.0 bytes\n"
     ]
    }
   ],
   "source": [
    "tech.info()"
   ]
  },
  {
   "cell_type": "code",
   "execution_count": 23,
   "id": "7298ab0e",
   "metadata": {},
   "outputs": [],
   "source": [
    "tech['Technician'] = pd.Categorical(tech['Technician'])"
   ]
  },
  {
   "cell_type": "code",
   "execution_count": 24,
   "id": "378b3796",
   "metadata": {},
   "outputs": [
    {
     "name": "stdout",
     "output_type": "stream",
     "text": [
      "                 df       sum_sq    mean_sq        F    PR(>F)\n",
      "C(Technician)   2.0    24.577778  12.288889  0.16564  0.847902\n",
      "Residual       42.0  3116.000000  74.190476      NaN       NaN\n"
     ]
    }
   ],
   "source": [
    "f_tech = 'Service_Time ~ C(Technician)'\n",
    "model = ols(f_tech, tech).fit()\n",
    "aov_table_tech = anova_lm(model)\n",
    "print(aov_table_tech)"
   ]
  },
  {
   "cell_type": "markdown",
   "id": "be7b9f4c",
   "metadata": {},
   "source": [
    "Since the p value is  higher, the null hypothesis is true here and the alternative hypothesis is rejected."
   ]
  },
  {
   "cell_type": "code",
   "execution_count": 25,
   "id": "6bf5cb4a",
   "metadata": {},
   "outputs": [
    {
     "data": {
      "image/png": "[encoded data removed]",
      "text/plain": [
       "<Figure size 1000x700 with 1 Axes>"
      ]
     },
     "metadata": {},
     "output_type": "display_data"
    }
   ],
   "source": [
    "plt.figure(figsize=(10,7))\n",
    "sns.pointplot(x= 'Technician', y= 'Service_Time', data= tech, );"
   ]
  },
  {
   "cell_type": "code",
   "execution_count": 26,
   "id": "33cc2bd5",
   "metadata": {},
   "outputs": [
    {
     "data": {
      "text/html": [
       "<div>\n",
       "<style scoped>\n",
       "    .dataframe tbody tr th:only-of-type {\n",
       "        vertical-align: middle;\n",
       "    }\n",
       "\n",
       "    .dataframe tbody tr th {\n",
       "        vertical-align: top;\n",
       "    }\n",
       "\n",
       "    .dataframe thead th {\n",
       "        text-align: right;\n",
       "    }\n",
       "</style>\n",
       "<table border=\"1\" class=\"dataframe\">\n",
       "  <thead>\n",
       "    <tr style=\"text-align: right;\">\n",
       "      <th></th>\n",
       "      <th>Service_Time</th>\n",
       "    </tr>\n",
       "    <tr>\n",
       "      <th>Technician</th>\n",
       "      <th></th>\n",
       "    </tr>\n",
       "  </thead>\n",
       "  <tbody>\n",
       "    <tr>\n",
       "      <th>1</th>\n",
       "      <td>55.333333</td>\n",
       "    </tr>\n",
       "    <tr>\n",
       "      <th>2</th>\n",
       "      <td>55.266667</td>\n",
       "    </tr>\n",
       "    <tr>\n",
       "      <th>3</th>\n",
       "      <td>56.866667</td>\n",
       "    </tr>\n",
       "  </tbody>\n",
       "</table>\n",
       "</div>"
      ],
      "text/plain": [
       "            Service_Time\n",
       "Technician              \n",
       "1              55.333333\n",
       "2              55.266667\n",
       "3              56.866667"
      ]
     },
     "execution_count": 26,
     "metadata": {},
     "output_type": "execute_result"
    }
   ],
   "source": [
    "tech.groupby(tech['Technician']).mean()"
   ]
  },
  {
   "cell_type": "markdown",
   "id": "82724db4",
   "metadata": {},
   "source": [
    "# 4.. Analyse the effects of one variable on another with the help of an interaction plot. What is an interaction between two treatments? [Hint: use the ‘pointplot’ function from the ‘seaborn’ graphical subroutine in Python]"
   ]
  },
  {
   "cell_type": "code",
   "execution_count": 27,
   "id": "c202bd52",
   "metadata": {},
   "outputs": [
    {
     "data": {
      "image/png": "[encoded data removed]",
      "text/plain": [
       "<Figure size 1000x700 with 1 Axes>"
      ]
     },
     "metadata": {},
     "output_type": "display_data"
    }
   ],
   "source": [
    "plt.figure(figsize=(10,7))\n",
    "sns.pointplot(data = service, x= 'Technician', y= 'Service_Time', hue='Manufacturer', ci= None);"
   ]
  },
  {
   "cell_type": "markdown",
   "id": "d0c01c8e",
   "metadata": {},
   "source": [
    "# 5. Perform a two-way ANOVA based on the variables ‘Manufacturer’ & ‘Technician’ with respect to the variable ‘Service Time’ and state your results."
   ]
  },
  {
   "cell_type": "code",
   "execution_count": 28,
   "id": "5501635a",
   "metadata": {},
   "outputs": [
    {
     "data": {
      "text/html": [
       "<div>\n",
       "<style scoped>\n",
       "    .dataframe tbody tr th:only-of-type {\n",
       "        vertical-align: middle;\n",
       "    }\n",
       "\n",
       "    .dataframe tbody tr th {\n",
       "        vertical-align: top;\n",
       "    }\n",
       "\n",
       "    .dataframe thead th {\n",
       "        text-align: right;\n",
       "    }\n",
       "</style>\n",
       "<table border=\"1\" class=\"dataframe\">\n",
       "  <thead>\n",
       "    <tr style=\"text-align: right;\">\n",
       "      <th></th>\n",
       "      <th>df</th>\n",
       "      <th>sum_sq</th>\n",
       "      <th>mean_sq</th>\n",
       "      <th>F</th>\n",
       "      <th>PR(&gt;F)</th>\n",
       "    </tr>\n",
       "  </thead>\n",
       "  <tbody>\n",
       "    <tr>\n",
       "      <th>C(Technician)</th>\n",
       "      <td>2.0</td>\n",
       "      <td>24.577778</td>\n",
       "      <td>12.288889</td>\n",
       "      <td>0.236274</td>\n",
       "      <td>0.790779</td>\n",
       "    </tr>\n",
       "    <tr>\n",
       "      <th>C(Manufacturer)</th>\n",
       "      <td>2.0</td>\n",
       "      <td>28.311111</td>\n",
       "      <td>14.155556</td>\n",
       "      <td>0.272164</td>\n",
       "      <td>0.763283</td>\n",
       "    </tr>\n",
       "    <tr>\n",
       "      <th>C(Technician):C(Manufacturer)</th>\n",
       "      <td>4.0</td>\n",
       "      <td>1215.288889</td>\n",
       "      <td>303.822222</td>\n",
       "      <td>5.841487</td>\n",
       "      <td>0.000994</td>\n",
       "    </tr>\n",
       "    <tr>\n",
       "      <th>Residual</th>\n",
       "      <td>36.0</td>\n",
       "      <td>1872.400000</td>\n",
       "      <td>52.011111</td>\n",
       "      <td>NaN</td>\n",
       "      <td>NaN</td>\n",
       "    </tr>\n",
       "  </tbody>\n",
       "</table>\n",
       "</div>"
      ],
      "text/plain": [
       "                                 df       sum_sq     mean_sq         F  \\\n",
       "C(Technician)                   2.0    24.577778   12.288889  0.236274   \n",
       "C(Manufacturer)                 2.0    28.311111   14.155556  0.272164   \n",
       "C(Technician):C(Manufacturer)   4.0  1215.288889  303.822222  5.841487   \n",
       "Residual                       36.0  1872.400000   52.011111       NaN   \n",
       "\n",
       "                                 PR(>F)  \n",
       "C(Technician)                  0.790779  \n",
       "C(Manufacturer)                0.763283  \n",
       "C(Technician):C(Manufacturer)  0.000994  \n",
       "Residual                            NaN  "
      ]
     },
     "execution_count": 28,
     "metadata": {},
     "output_type": "execute_result"
    }
   ],
   "source": [
    "formula = 'Service_Time ~ C(Technician) + C(Manufacturer) + C(Technician):C(Manufacturer)'\n",
    "model = ols(formula, service).fit()\n",
    "aov_table = anova_lm(model)\n",
    "aov_table"
   ]
  },
  {
   "cell_type": "code",
   "execution_count": null,
   "id": "235f63c3",
   "metadata": {},
   "outputs": [],
   "source": []
  }
 ],
 "metadata": {
  "kernelspec": {
   "display_name": "nlp",
   "language": "python",
   "name": "python3"
  },
  "language_info": {
   "codemirror_mode": {
    "name": "ipython",
    "version": 3
   },
   "file_extension": ".py",
   "mimetype": "text/x-python",
   "name": "python",
   "nbconvert_exporter": "python",
   "pygments_lexer": "ipython3",
   "version": "3.10.13"
  }
 },
 "nbformat": 4,
 "nbformat_minor": 5
}
